{
 "cells": [
  {
   "cell_type": "markdown",
   "metadata": {},
   "source": [
    "#### Basic understanding and masking of brain images with Nilearn\n",
    "\n",
    "Assgn:  1  \n",
    "Name:   Srinivas Kota  \n",
    "RollNo: 2018101043  \n"
   ]
  },
  {
   "cell_type": "markdown",
   "metadata": {},
   "source": []
  },
  {
   "cell_type": "code",
   "execution_count": null,
   "metadata": {},
   "outputs": [],
   "source": []
  },
  {
   "cell_type": "code",
   "execution_count": null,
   "metadata": {},
   "outputs": [],
   "source": [
    "### DOWNLOAD DATA\n",
    "from nilearn import datasets\n",
    "\n",
    "DATA_DIR = './data/'\n",
    "haxby_dataset = datasets.fetch_haxby(data_dir=DATA_DIR)"
   ]
  },
  {
   "cell_type": "code",
   "execution_count": null,
   "metadata": {},
   "outputs": [],
   "source": []
  },
  {
   "cell_type": "code",
   "execution_count": null,
   "metadata": {},
   "outputs": [],
   "source": [
    "### TODO 1\n",
    "\n",
    "print(haxby_dataset['anat']) # anatomical image\n",
    "print(haxby_dataset['func']) # functional image\n"
   ]
  },
  {
   "cell_type": "code",
   "execution_count": null,
   "metadata": {},
   "outputs": [],
   "source": []
  },
  {
   "cell_type": "code",
   "execution_count": null,
   "metadata": {},
   "outputs": [],
   "source": [
    "### LOAD IMAGES\n",
    "from nilearn import image\n",
    "\n"
   ]
  },
  {
   "cell_type": "code",
   "execution_count": null,
   "metadata": {},
   "outputs": [],
   "source": [
    "### TODO 2\n",
    "anatomical_image_path = haxby_dataset['anat'][0]\n",
    "anatomical = image.load_img(img=anatomical_image_path)\n",
    "type(anatomical)\n",
    "\n",
    "functional_image_path = haxby_dataset['func'][0]\n",
    "functional = image.load_img(img=functional_image_path)\n",
    "type(functional)"
   ]
  },
  {
   "cell_type": "code",
   "execution_count": null,
   "metadata": {},
   "outputs": [],
   "source": [
    "anatomical_image_shape = anatomical.shape\n",
    "functional_image_shape = functional.shape\n",
    "\n",
    "assert(anatomical_image_shape == (124, 256, 256))\n",
    "assert(functional_image_shape == (40, 64, 64, 1452))"
   ]
  },
  {
   "cell_type": "code",
   "execution_count": null,
   "metadata": {},
   "outputs": [],
   "source": []
  },
  {
   "cell_type": "code",
   "execution_count": null,
   "metadata": {},
   "outputs": [],
   "source": [
    "### TODO 3\n",
    "# Q: do we use mask.nii.gz not in /subj2\n",
    "mask_images_path = './data/haxby2001/subj2/mask*'\n",
    "all_mask_images = image.load_img(img=mask_images_path)\n",
    "\n",
    "assert(all_mask_images.shape == (40, 64, 64, 5))"
   ]
  },
  {
   "cell_type": "code",
   "execution_count": null,
   "metadata": {},
   "outputs": [],
   "source": [
    "### DATA VISUALISATION\n",
    "\n",
    "from nilearn import plotting"
   ]
  },
  {
   "cell_type": "code",
   "execution_count": null,
   "metadata": {},
   "outputs": [],
   "source": [
    "plotting.plot_anat(anatomical)\n",
    "plotting.show()"
   ]
  },
  {
   "cell_type": "code",
   "execution_count": null,
   "metadata": {},
   "outputs": [],
   "source": [
    "plotting.plot_anat(anatomical, display_mode='x', cut_coords=[-40, -20, 0, 20, 40])\n",
    "plotting.show()"
   ]
  },
  {
   "cell_type": "code",
   "execution_count": null,
   "metadata": {},
   "outputs": [],
   "source": [
    "### TODO 4\n",
    "# need to complete from here\n",
    "mask_roi_image = ''\n",
    "plotting.plot_roi(roi_img=mask_roi_image)"
   ]
  },
  {
   "cell_type": "code",
   "execution_count": null,
   "metadata": {},
   "outputs": [],
   "source": [
    "### IMAGE MANIPULATION"
   ]
  },
  {
   "cell_type": "code",
   "execution_count": null,
   "metadata": {},
   "outputs": [],
   "source": [
    "### TODO 5: Specify functional image as input as it is 4D and we want to average in time\n",
    "nii_images = []\n",
    "mean_functional_image = image.mean_img(imgs=nii_images)\n",
    "\n",
    "assert(mean_functional_image.shape == (40, 64, 64))"
   ]
  },
  {
   "cell_type": "code",
   "execution_count": null,
   "metadata": {},
   "outputs": [],
   "source": [
    "### TODO 6: Visualize the mean image using `plotting.plot_epi`\n",
    "mean_epi_image = ''\n",
    "plotting.plot_epi(epi_img=mean_epi_image)\n",
    "plotting.show()"
   ]
  },
  {
   "cell_type": "code",
   "execution_count": null,
   "metadata": {},
   "outputs": [],
   "source": [
    "### TODO 7: Specify the mean functional image\n",
    "mean_functional_image_ = ''\n",
    "smooth_mean_functional_image = image.smooth_img(imgs=mean_functional_image_, fwhm=8)"
   ]
  },
  {
   "cell_type": "code",
   "execution_count": null,
   "metadata": {},
   "outputs": [],
   "source": [
    "### TODO 8: Visualize the smoothed image using `plotting.plot_epi`\n",
    "smooth_mean_functional_image_ = ''\n",
    "plotting.plot_epi(epi_img=smooth_mean_functional_image_)"
   ]
  },
  {
   "cell_type": "code",
   "execution_count": null,
   "metadata": {},
   "outputs": [],
   "source": [
    "### MATH OPERATORS ON IMAGES"
   ]
  },
  {
   "cell_type": "code",
   "execution_count": null,
   "metadata": {},
   "outputs": [],
   "source": [
    "log_image = image.math_img(\"np.log(img)\", img=anatomical)\n",
    "negate_image = image.math_img(\"-img\", img=anatomical)"
   ]
  },
  {
   "cell_type": "code",
   "execution_count": null,
   "metadata": {},
   "outputs": [],
   "source": [
    "### TODO 9: Use addition symbol with two images\n",
    "images = [anatomical, log_image]\n",
    "add_anatomical_img_with_log_img = image.math_img(formula=\"np.sum(imgs)\", imgs=images)"
   ]
  },
  {
   "cell_type": "code",
   "execution_count": null,
   "metadata": {},
   "outputs": [],
   "source": [
    "### TODO 10: Use Numpy functions\n",
    "tsnr_functional_image = image.math_img()\n",
    "\n",
    "plotting.plot_epi(tsnr_functional_image)\n",
    "plotting.plot()"
   ]
  },
  {
   "cell_type": "code",
   "execution_count": null,
   "metadata": {},
   "outputs": [],
   "source": [
    "### TODO 11: Resampling images\n",
    "image.resample_to_img()"
   ]
  },
  {
   "cell_type": "code",
   "execution_count": null,
   "metadata": {},
   "outputs": [],
   "source": [
    "### MASKING BRAIN IMAGES\n",
    "from nilearn import masking"
   ]
  },
  {
   "cell_type": "code",
   "execution_count": null,
   "metadata": {},
   "outputs": [],
   "source": [
    "func_mask = masking.compute_epi_mask(mean_functional_image)\n",
    "\n",
    "plotting.plot_epi(mean_functional_image)\n",
    "plotting.plot_roi(func_mask, mean_functional_image)\n",
    "plotting.show()"
   ]
  },
  {
   "cell_type": "code",
   "execution_count": null,
   "metadata": {},
   "outputs": [],
   "source": [
    "print(\"Before masking, our data has shape %s ...\" % (functional.shape,))\n",
    "functional_masked = masking.apply_mask(functional, func_mask)\n",
    "print(\"After masking, shape %s and is a %s\" % (functional_masked.shape, type(functional_masked).__name__))"
   ]
  },
  {
   "cell_type": "code",
   "execution_count": null,
   "metadata": {},
   "outputs": [],
   "source": [
    "### TODO 12: Apply HAXBY mask\n",
    "haxby_mask = haxby_dataset['mask_face'] # there are others"
   ]
  },
  {
   "cell_type": "code",
   "execution_count": null,
   "metadata": {},
   "outputs": [],
   "source": [
    "from nilearn.input_data import NiftiMasker"
   ]
  },
  {
   "cell_type": "code",
   "execution_count": null,
   "metadata": {},
   "outputs": [],
   "source": [
    "masker = NiftiMasker(mask_img=func_mask, verbose=True)"
   ]
  },
  {
   "cell_type": "code",
   "execution_count": null,
   "metadata": {},
   "outputs": [],
   "source": [
    "masked_functional_image = masker.fit_transform(functional)\n",
    "print(masked_functional_image.shape)"
   ]
  },
  {
   "cell_type": "code",
   "execution_count": null,
   "metadata": {},
   "outputs": [],
   "source": [
    "### TODO 13: Implement the smoothing and mask strategy parameter\n",
    "# spatial smoothing with fwhm=7 and strategy='epi'\n",
    "smoothed_masked_functional_image = ''"
   ]
  },
  {
   "cell_type": "code",
   "execution_count": null,
   "metadata": {},
   "outputs": [],
   "source": [
    "### TODO 14: Implement masking pipeline\n",
    "\n",
    "# 1. Download: fMRI data\n",
    "# 2. Implement: NiftiMasker - specify mask on init, apply mask on fMRI data\n",
    "# 3. Plot: plot mask image overlayed on mean of fMRI data\n",
    "# 4. Print: masked output (2D-matrix)"
   ]
  },
  {
   "cell_type": "code",
   "execution_count": null,
   "metadata": {},
   "outputs": [],
   "source": []
  }
 ],
 "metadata": {
  "interpreter": {
   "hash": "bddd9563d849859cc2e7a4879e865840af09d522d73975fd4be4957ef5ffe062"
  },
  "kernelspec": {
   "display_name": "Python 3.7.12 64-bit ('venv': venv)",
   "language": "python",
   "name": "python3"
  },
  "language_info": {
   "codemirror_mode": {
    "name": "ipython",
    "version": 3
   },
   "file_extension": ".py",
   "mimetype": "text/x-python",
   "name": "python",
   "nbconvert_exporter": "python",
   "pygments_lexer": "ipython3",
   "version": "3.7.12"
  },
  "orig_nbformat": 4
 },
 "nbformat": 4,
 "nbformat_minor": 2
}
